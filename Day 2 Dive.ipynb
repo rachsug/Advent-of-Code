{
 "cells": [
  {
   "cell_type": "code",
   "execution_count": 56,
   "metadata": {},
   "outputs": [
    {
     "name": "stdout",
     "output_type": "stream",
     "text": [
      "1855814\n",
      "1845455714\n"
     ]
    }
   ],
   "source": [
    "inputs = \"forward 8 forward 3 down 8 down 2 up 1 up 4 down 9 forward 3 forward 4 forward 5 forward 1 forward 1 up 8 forward 2 forward 9 down 2 forward 8 down 5 down 3 down 8 up 1 forward 1 down 8 up 7 down 8 down 9 down 4 down 7 forward 7 forward 9 down 2 down 5 forward 1 down 1 forward 2 up 8 down 8 forward 2 up 5 down 6 down 5 down 2 forward 5 forward 4 forward 6 down 4 up 1 down 8 down 7 down 3 down 4 down 5 forward 7 down 3 down 3 forward 3 down 2 up 8 up 8 forward 2 down 8 down 8 forward 3 forward 9 forward 3 forward 2 down 9 down 3 forward 4 forward 1 down 7 forward 5 up 2 down 6 up 4 down 2 up 5 forward 6 down 6 down 1 forward 5 forward 4 up 8 up 5 forward 2 down 5 down 4 up 1 forward 9 up 5 up 5 forward 3 down 6 forward 7 down 2 forward 1 forward 4 forward 4 down 2 down 6 down 3 down 1 forward 1 down 8 forward 2 down 1 down 2 forward 6 forward 1 forward 7 forward 2 down 2 up 6 up 2 forward 7 down 6 down 1 forward 5 forward 3 forward 1 down 3 up 1 forward 3 forward 1 down 2 down 5 up 8 down 8 forward 3 down 9 forward 8 down 8 down 5 forward 2 up 1 down 3 up 3 down 5 down 7 down 8 down 8 down 1 forward 9 up 4 up 4 down 5 forward 6 forward 1 up 6 forward 5 up 6 forward 1 forward 9 down 3 down 8 forward 6 forward 6 up 1 down 6 forward 2 down 7 down 2 forward 4 up 4 up 2 forward 8 up 6 down 8 up 3 down 5 down 3 forward 3 down 8 up 4 up 5 down 1 down 7 down 7 forward 6 up 6 down 1 forward 7 down 2 up 7 up 3 forward 9 down 3 up 4 up 1 forward 8 down 4 forward 9 forward 8 down 4 down 3 down 1 forward 8 up 7 down 3 up 5 down 3 down 9 down 9 up 9 down 9 up 4 down 5 down 5 forward 8 forward 1 up 3 down 9 down 8 forward 2 forward 1 up 6 down 3 forward 1 up 6 forward 9 forward 3 forward 3 down 2 down 7 forward 1 up 9 up 3 forward 1 forward 2 forward 7 forward 8 forward 2 forward 3 forward 1 forward 7 down 1 up 7 up 3 forward 3 forward 9 down 7 down 3 forward 2 forward 8 up 1 forward 2 forward 3 up 2 down 1 down 9 down 4 up 3 forward 3 down 6 down 1 forward 2 down 8 forward 3 forward 9 forward 1 forward 6 forward 5 down 5 forward 2 up 7 up 7 down 8 forward 9 up 1 up 5 up 8 forward 5 forward 2 down 5 up 5 down 3 forward 6 down 9 down 7 forward 2 forward 8 forward 3 down 7 down 8 forward 9 down 3 down 3 forward 1 forward 4 down 2 forward 1 forward 3 forward 5 down 9 up 3 down 5 forward 8 forward 3 down 5 forward 3 forward 7 down 3 forward 8 down 1 down 3 down 4 down 2 forward 8 down 2 forward 5 down 2 up 2 forward 8 forward 9 forward 3 forward 2 forward 3 down 2 forward 5 down 1 down 9 up 1 down 6 forward 2 up 1 forward 6 down 2 forward 2 forward 1 forward 4 forward 4 forward 9 forward 2 down 5 forward 9 forward 1 forward 7 forward 1 down 7 forward 7 down 4 down 8 down 8 down 1 forward 4 down 5 up 3 down 5 forward 6 down 6 down 4 down 9 down 4 down 5 forward 7 up 4 forward 6 down 9 down 5 down 5 up 2 forward 8 up 5 down 1 down 2 up 6 down 7 forward 7 up 5 forward 4 up 5 down 3 up 7 forward 4 down 4 down 5 down 7 down 3 down 9 up 8 down 9 forward 6 forward 2 forward 2 up 8 up 2 down 4 down 4 up 7 up 9 forward 2 forward 8 forward 4 up 8 forward 8 up 2 down 3 forward 9 down 1 down 7 forward 4 down 2 up 6 up 6 down 9 forward 6 forward 9 down 3 forward 8 up 1 down 5 forward 1 down 6 up 8 forward 2 up 7 forward 5 down 5 up 3 forward 2 forward 1 forward 4 down 6 up 9 forward 9 down 8 forward 2 down 1 down 3 forward 2 forward 9 up 1 forward 9 down 4 forward 2 forward 7 forward 1 up 2 up 2 down 9 forward 3 forward 2 down 6 up 8 down 4 forward 8 up 9 up 6 down 5 up 1 down 9 down 2 down 1 up 8 down 1 forward 3 down 7 down 7 forward 8 down 4 forward 1 forward 4 forward 5 down 8 down 2 down 9 up 5 down 8 down 8 down 3 forward 2 down 5 up 5 down 1 down 2 forward 9 down 7 down 7 down 1 down 6 up 6 up 7 down 1 down 3 down 2 down 5 down 9 down 4 down 5 forward 1 up 7 down 7 forward 6 forward 4 down 3 forward 3 forward 6 forward 7 down 3 forward 1 down 6 down 8 forward 3 up 3 forward 4 forward 3 down 6 up 7 forward 8 forward 4 down 7 down 6 down 8 forward 9 down 6 down 5 up 4 down 6 down 8 down 5 up 4 forward 2 forward 8 forward 9 down 2 forward 5 down 9 down 2 down 7 forward 2 down 2 up 7 down 2 up 5 forward 3 down 8 forward 3 forward 8 up 3 down 6 down 1 forward 2 up 7 down 8 forward 8 down 2 down 3 down 5 forward 4 forward 5 down 2 forward 2 down 5 down 9 forward 4 forward 3 forward 2 down 9 forward 2 forward 9 down 5 down 9 down 6 down 6 down 3 down 1 down 7 forward 7 forward 2 up 9 forward 4 up 7 forward 3 down 2 up 8 up 3 down 4 up 9 forward 1 down 1 forward 4 up 4 forward 4 up 8 forward 7 down 3 forward 1 up 3 up 1 up 2 down 3 forward 5 down 6 down 1 down 2 forward 2 down 3 up 1 forward 4 down 2 forward 8 forward 3 forward 7 forward 7 down 5 down 7 forward 8 up 2 down 6 forward 1 down 4 forward 5 forward 8 forward 9 forward 7 down 1 down 3 down 1 down 2 forward 3 up 3 down 7 forward 9 forward 2 up 8 up 6 up 3 down 5 forward 8 down 8 down 6 forward 4 down 2 down 8 forward 8 up 7 up 4 up 5 down 4 up 6 forward 2 forward 9 down 9 forward 6 down 5 down 7 forward 5 up 5 forward 2 up 7 up 3 down 8 forward 8 forward 3 down 2 down 5 forward 4 down 8 forward 5 forward 4 down 9 forward 1 down 4 up 5 forward 5 down 1 forward 4 down 4 forward 4 down 8 up 5 up 4 up 9 forward 2 forward 3 down 3 forward 2 down 6 down 6 down 5 forward 8 forward 3 up 1 down 9 down 4 down 1 up 4 forward 2 forward 3 down 4 up 4 forward 5 forward 2 up 2 forward 4 down 2 down 3 down 6 up 2 forward 8 forward 9 forward 1 down 1 up 7 up 4 forward 2 forward 4 forward 2 forward 8 down 9 down 5 down 1 down 1 down 6 forward 1 up 6 down 4 down 9 down 2 down 2 down 5 up 6 forward 4 forward 1 forward 2 forward 8 forward 2 down 6 forward 1 down 8 down 1 forward 2 forward 3 down 9 down 7 down 5 up 1 forward 1 down 5 down 4 forward 8 down 9 up 7 forward 6 forward 2 forward 8 down 9 down 1 up 5 down 5 down 3 forward 6 forward 5 forward 2 forward 6 up 4 forward 1 down 9 forward 5 up 1 down 5 down 6 forward 8 down 4 up 9 down 6 down 9 down 7 down 3 forward 7 down 5 up 6 forward 3 up 4 down 5 up 5 up 9 forward 9 forward 8 down 9 forward 9 down 2 forward 5 forward 5 forward 9 down 3 up 8 down 7 up 9 forward 8 forward 8 down 1 down 5 down 4 up 8 forward 4 forward 7 down 2 down 7 down 6 down 9 down 7 forward 5 forward 7 forward 5 forward 2 forward 7 up 2 down 8 down 9 down 5 down 9 forward 5 forward 8 forward 9 up 5 down 9 down 7 forward 4 down 6 up 5 up 8 down 3 down 2 up 7 forward 9 down 3 down 2 down 7 down 4 up 6 up 4 down 7 down 4 forward 5 forward 6 up 6 down 7 down 9 down 9 down 6 forward 8 forward 3 forward 5 up 1 up 8 forward 4 forward 6 down 5 down 4 forward 5 forward 9 down 4 up 3 up 8 down 7 up 8 forward 5 forward 3 up 4 up 9 forward 6 down 1 up 6 down 5 down 4 down 3 down 8 up 1 down 1 up 8 up 8 down 6 forward 4 forward 9 down 4 down 7 forward 9 forward 8 up 6 down 9 up 3 down 8 forward 4 forward 6 forward 9 up 7 down 2 forward 2 forward 1 forward 5 up 9 up 7 up 5 forward 4 forward 5 forward 4 up 5 forward 4 up 6 down 5 up 2 forward 5 forward 5 down 9 forward 7 down 9 up 4 up 9 forward 6 forward 7 down 2 forward 4 down 9 down 6 forward 1 forward 7 up 3 up 3 down 6 up 6 up 2 up 3 forward 7 up 4 forward 1 down 1 forward 2 forward 4 down 1 down 8 forward 5 forward 8 up 7 down 3 forward 3 forward 6 down 8 down 7 up 9 forward 3 up 1 down 8 forward 4 down 9 forward 3 forward 8 down 4 forward 4 forward 1 up 6 down 1 down 7 forward 8 down 9 down 8 down 7 forward 5 up 6 forward 5 up 1 down 3 down 7 down 4 forward 6 down 4 down 7 up 9 down 6 down 7 up 3 up 8 forward 3 forward 1 forward 5 down 5 forward 5 down 1 forward 9 up 5 forward 4 down 1 down 8 up 1 up 3 up 8 down 3 down 5 up 7 forward 4 down 7 forward 9 forward 7 forward 9 down 9 forward 3 forward 6 up 3 forward 4 forward 4\"\n",
    "#1845455714\n",
    "a = [i for i in inputs.split(' ')]\n",
    "\n",
    "x = []\n",
    "for i in range(len(a)):\n",
    "    x.append(a[i:i+2])\n",
    "\n",
    "b = []\n",
    "b = [i for i in x if ]\n",
    "for i in range(len(x)):\n",
    "    if i%2 == 0:\n",
    "        b.append(x[i])\n",
    "        \n",
    "x = 0\n",
    "y = 0\n",
    "depth = 0\n",
    "for i in range(len(b)):\n",
    "    if b[i][0] == 'forward':\n",
    "        x += int(b[i][1])\n",
    "        depth += y*int(b[i][1]) \n",
    "    if b[i][0] == 'down':\n",
    "        y += int(b[i][1])\n",
    "    if b[i][0] == 'up':\n",
    "        y -= int(b[i][1])\n",
    "\n",
    "print(x*y) # --- Part One ---\n",
    "print(x*depth) # --- Part Two --"
   ]
  },
  {
   "cell_type": "code",
   "execution_count": 54,
   "metadata": {},
   "outputs": [
    {
     "name": "stdout",
     "output_type": "stream",
     "text": [
      "[['forward', '5'], ['down', '5'], ['forward', '8'], ['up', '3'], ['down', '8'], ['forward', '2']]\n",
      "15\n",
      "10\n",
      "60\n",
      "900\n"
     ]
    }
   ],
   "source": [
    "a = ['forward', '5', 'down', '5', 'forward', '8', 'up', '3', 'down', '8', 'forward', '2']\n",
    "x = []\n",
    "for i in range(len(a)):\n",
    "    #print(a[i])\n",
    "    #if  \n",
    "    x.append(a[i:i+2])\n",
    "    i+=2\n",
    "    \n",
    "b = []\n",
    "for i in range(len(x)):\n",
    "    if i%2 == 0:\n",
    "        b.append(x[i])\n",
    "        \n",
    "x = 0\n",
    "y = 0\n",
    "depth = 0\n",
    "for i in range(len(b)):\n",
    "    if b[i][0] == 'forward':\n",
    "        x += int(b[i][1])\n",
    "        depth += y*int(b[i][1])\n",
    "    if b[i][0] == 'down':\n",
    "        y += int(b[i][1])\n",
    "    if b[i][0] == 'up':\n",
    "        y -= int(b[i][1])\n",
    "        \n",
    "        \n",
    "print(b)\n",
    "print(x)\n",
    "print(y)\n",
    "print(depth)\n",
    "print(x*depth)"
   ]
  },
  {
   "cell_type": "code",
   "execution_count": 26,
   "metadata": {},
   "outputs": [
    {
     "name": "stdout",
     "output_type": "stream",
     "text": [
      "[3, 5, 7, 9, 11]\n"
     ]
    }
   ],
   "source": [
    "a = [1,2,3,4,5,6]\n",
    "b = []\n",
    "for i in range(len(a)-1):\n",
    "    b.append(a[i]+a[i+1])\n",
    "print(b)"
   ]
  }
 ],
 "metadata": {
  "kernelspec": {
   "display_name": "Python 3",
   "language": "python",
   "name": "python3"
  },
  "language_info": {
   "codemirror_mode": {
    "name": "ipython",
    "version": 3
   },
   "file_extension": ".py",
   "mimetype": "text/x-python",
   "name": "python",
   "nbconvert_exporter": "python",
   "pygments_lexer": "ipython3",
   "version": "3.8.5"
  }
 },
 "nbformat": 4,
 "nbformat_minor": 4
}
